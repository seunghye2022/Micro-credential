{
  "nbformat": 4,
  "nbformat_minor": 0,
  "metadata": {
    "colab": {
      "name": "homework unit2",
      "provenance": [],
      "authorship_tag": "ABX9TyOHuclwMXxYRc2COfJpSpU2",
      "include_colab_link": true
    },
    "kernelspec": {
      "name": "python3",
      "display_name": "Python 3"
    },
    "language_info": {
      "name": "python"
    }
  },
  "cells": [
    {
      "cell_type": "markdown",
      "metadata": {
        "id": "view-in-github",
        "colab_type": "text"
      },
      "source": [
        "<a href=\"https://colab.research.google.com/github/seunghye2022/Micro-credential/blob/main/homework_unit2.ipynb\" target=\"_parent\"><img src=\"https://colab.research.google.com/assets/colab-badge.svg\" alt=\"Open In Colab\"/></a>"
      ]
    },
    {
      "cell_type": "code",
      "execution_count": null,
      "metadata": {
        "id": "PEWzViKpWnue"
      },
      "outputs": [],
      "source": [
        "\n"
      ]
    },
    {
      "cell_type": "markdown",
      "source": [
        "Unit2_L2 \n",
        "\n",
        "Name: _____Seunghye Jeong_______\n",
        "\n",
        "Python for Data Analytics\n",
        "\n",
        "1. What is Python and why is it useful?\n",
        "-> Python is a high-level, interpreted, general-purpose programming language.\n",
        "Python can work on very large datasets with ease. It makes analyzing data from a few thousand rows to a few miliion rows very easy. It can perform complex operations from maching learning, to web development. Python's code can be saved and re-run making processes automated and a huge time saver.\n"
      ],
      "metadata": {
        "id": "H_u3p5tgcTCC"
      }
    },
    {
      "cell_type": "markdown",
      "source": [
        "2. Are the following variable names allowed in python? (excpet 1)\n",
        "1_message\n",
        "Greeting_message\n",
        "Message_1\n",
        "First name\n",
        "Full_name\n"
      ],
      "metadata": {
        "id": "XDrODzXTciY1"
      }
    },
    {
      "cell_type": "code",
      "source": [
        "#3. Create a variable that holds the string “hello there!”\n",
        "\n",
        "a = \"Hello, World!\"\n",
        "print(len(a)) \n"
      ],
      "metadata": {
        "colab": {
          "base_uri": "https://localhost:8080/"
        },
        "id": "PVfpSts4cact",
        "outputId": "6157af55-00a4-4292-d3d7-b03ae336969d"
      },
      "execution_count": null,
      "outputs": [
        {
          "output_type": "stream",
          "name": "stdout",
          "text": [
            "13\n"
          ]
        }
      ]
    },
    {
      "cell_type": "code",
      "source": [
        "#4. Create a variable for first name, last name and an email extension. \n",
        "#Concatenating all three together to form an email address.  For example: firstnamelastname@gmail.com\n",
        "str_a= 'seunghye'\n",
        "str_b = 'jeong'\n",
        "str_c = '@gmail.com'\n",
        "str_d= str_a + str_b + str_c \n",
        "print(str_d)"
      ],
      "metadata": {
        "colab": {
          "base_uri": "https://localhost:8080/"
        },
        "id": "I36OGjsHchtm",
        "outputId": "58f477e7-f833-40b4-bd69-05ca8123bc4d"
      },
      "execution_count": null,
      "outputs": [
        {
          "output_type": "stream",
          "name": "stdout",
          "text": [
            "seunghyejeong@gmail.com\n"
          ]
        }
      ]
    },
    {
      "cell_type": "code",
      "source": [
        "#5.Store someone you know name in a variable called name. \n",
        "#Print their name in lower and uppercase using a method.\n",
        "name = ['abby','seunghye', 'emma']\n",
        "print(name[1].title())\n",
        "print(name[2].upper())\n"
      ],
      "metadata": {
        "id": "3xKSvBUIdbg9",
        "colab": {
          "base_uri": "https://localhost:8080/"
        },
        "outputId": "b4f20290-a294-48b5-faa7-1907fa83097e"
      },
      "execution_count": null,
      "outputs": [
        {
          "output_type": "stream",
          "name": "stdout",
          "text": [
            "Seunghye\n",
            "EMMA\n"
          ]
        }
      ]
    },
    {
      "cell_type": "code",
      "source": [
        "#6. Using a variable, ask your friend if they want to hang out on the 15th of the month.\n",
        "#For example, “Do you want to hang out on the 15th of this month?”  \n",
        "#You should have to convert the number to a string.\n",
        "dates = ['15th', '16th', '17th', '18th']\n",
        "message = \"Do you want to hang out on the \" + dates[0] + \" of this month?\" \n",
        "print(message)"
      ],
      "metadata": {
        "id": "YEMoKoxydiCk",
        "colab": {
          "base_uri": "https://localhost:8080/"
        },
        "outputId": "5e90bf4c-7155-4fa2-f7bc-05318f3d676b"
      },
      "execution_count": null,
      "outputs": [
        {
          "output_type": "stream",
          "name": "stdout",
          "text": [
            "Do you want to hang out on the 15th of this month?\n"
          ]
        }
      ]
    },
    {
      "cell_type": "code",
      "source": [
        "#Lesson3: Working with Lists \n",
        "#1.Create a list of 5 of favorite tv shows. \n",
        "tvshows = ['madman', 'the_office', 'portlandia', 'the_animals','girls'] \n",
        "\n",
        "#2. Print the list in its original order.\n",
        "print(tvshows)"
      ],
      "metadata": {
        "colab": {
          "base_uri": "https://localhost:8080/"
        },
        "id": "TkMu-f43y_hY",
        "outputId": "51b4cf9a-4335-447c-eeb2-debbe42aa711"
      },
      "execution_count": null,
      "outputs": [
        {
          "output_type": "stream",
          "name": "stdout",
          "text": [
            "['madman', 'the_office', 'portlandia', 'the_animals', 'girls']\n"
          ]
        }
      ]
    },
    {
      "cell_type": "code",
      "source": [
        "#3. Use the sorted() function to print the list in alphabetical order.  How is sorted() different from sort()?\n",
        "print(sorted(tvshows))"
      ],
      "metadata": {
        "colab": {
          "base_uri": "https://localhost:8080/"
        },
        "id": "3RKl423Y1EzT",
        "outputId": "003ea0e0-6e7f-430b-a4b1-dce1f89c69b4"
      },
      "execution_count": null,
      "outputs": [
        {
          "output_type": "stream",
          "name": "stdout",
          "text": [
            "['girls', 'madman', 'portlandia', 'the_animals', 'the_office']\n"
          ]
        }
      ]
    },
    {
      "cell_type": "markdown",
      "source": [
        "sorted() - when you want 'temporarily' sort your list. "
      ],
      "metadata": {
        "id": "uFJ6hlUt1-uP"
      }
    },
    {
      "cell_type": "code",
      "source": [
        "#4. Print out your original list.\n",
        "print(tvshows)"
      ],
      "metadata": {
        "colab": {
          "base_uri": "https://localhost:8080/"
        },
        "id": "M9W5upVq2Hpd",
        "outputId": "2583994b-4589-4dbe-bfd4-9ac8bc807ff6"
      },
      "execution_count": null,
      "outputs": [
        {
          "output_type": "stream",
          "name": "stdout",
          "text": [
            "['madman', 'the_office', 'portlandia', 'the_animals', 'girls']\n"
          ]
        }
      ]
    },
    {
      "cell_type": "code",
      "source": [
        "#5. Used sorted() to print your list in reverse alphabetical order.\n",
        "print(sorted(tvshows))\n",
        "tvshows.sort(reverse=True)\n",
        "print(tvshows)"
      ],
      "metadata": {
        "colab": {
          "base_uri": "https://localhost:8080/"
        },
        "id": "lUGibhqF2U3P",
        "outputId": "30ad2f54-4ef9-4c48-eca8-737c232144b5"
      },
      "execution_count": null,
      "outputs": [
        {
          "output_type": "stream",
          "name": "stdout",
          "text": [
            "['girls', 'madman', 'portlandia', 'the_animals', 'the_office']\n",
            "['the_office', 'the_animals', 'portlandia', 'madman', 'girls']\n"
          ]
        }
      ]
    },
    {
      "cell_type": "code",
      "source": [
        "#6. Create a message indicating how many favorite TV shows you have – use the len() function.\n",
        "print(tvshows)\n",
        "len(tvshows)"
      ],
      "metadata": {
        "colab": {
          "base_uri": "https://localhost:8080/"
        },
        "id": "wXUoMPAM3Oku",
        "outputId": "9aded3fd-2236-4256-b823-628f3da2e6a2"
      },
      "execution_count": null,
      "outputs": [
        {
          "output_type": "stream",
          "name": "stdout",
          "text": [
            "['the_office', 'the_animals', 'portlandia', 'madman', 'girls']\n"
          ]
        },
        {
          "output_type": "execute_result",
          "data": {
            "text/plain": [
              "5"
            ]
          },
          "metadata": {},
          "execution_count": 8
        }
      ]
    },
    {
      "cell_type": "code",
      "source": [
        "#Lesson4. Looping \n",
        "#1. Create a list that holds 5 data variables. \n",
        "fruits=['lemon','kiwi','watermelon','grape','apple']\n",
        "\n",
        "#2. Print out those variables by using a for loop.\n",
        "\n",
        "fruits=['lemon','kiwi','watermelon','grape','apple']\n",
        "for fruit in fruits:\n",
        " print(fruit)"
      ],
      "metadata": {
        "colab": {
          "base_uri": "https://localhost:8080/"
        },
        "id": "1fKHwMkT3X71",
        "outputId": "ac4d0b15-9fdb-473e-e94e-330a028198bc"
      },
      "execution_count": null,
      "outputs": [
        {
          "output_type": "stream",
          "name": "stdout",
          "text": [
            "lemon\n",
            "kiwi\n",
            "watermelon\n",
            "grape\n",
            "apple\n"
          ]
        }
      ]
    },
    {
      "cell_type": "code",
      "source": [
        "#3. Modify your for loop to add a message to your for loop.\n",
        "fruits=['lemon','kiwi','watermelon','grape','apple']\n",
        "for fruit in fruits:\n",
        " print(fruit.title()+ \", is one of my favorite fruits!\")"
      ],
      "metadata": {
        "colab": {
          "base_uri": "https://localhost:8080/"
        },
        "id": "8mnbOZnPUsGa",
        "outputId": "a3173b5b-333f-4edb-e2f1-f4d878383cbd"
      },
      "execution_count": null,
      "outputs": [
        {
          "output_type": "stream",
          "name": "stdout",
          "text": [
            "Lemon, is one of my favorite fruits!\n",
            "Kiwi, is one of my favorite fruits!\n",
            "Watermelon, is one of my favorite fruits!\n",
            "Grape, is one of my favorite fruits!\n",
            "Apple, is one of my favorite fruits!\n"
          ]
        }
      ]
    },
    {
      "cell_type": "code",
      "source": [
        "#4.Use a for loop to print even numbers from 1-20. (why use ==? ) \n",
        "for number in range (1,20):\n",
        " if(number%2==0):\n",
        "   print(number)"
      ],
      "metadata": {
        "colab": {
          "base_uri": "https://localhost:8080/"
        },
        "id": "IP9OvaVwU7Pr",
        "outputId": "84a5c0ae-0cf7-4e50-da9e-ae45a5ca08cd"
      },
      "execution_count": null,
      "outputs": [
        {
          "output_type": "stream",
          "name": "stdout",
          "text": [
            "2\n",
            "4\n",
            "6\n",
            "8\n",
            "10\n",
            "12\n",
            "14\n",
            "16\n",
            "18\n"
          ]
        }
      ]
    },
    {
      "cell_type": "code",
      "source": [
        "#5. Sort your list in alphabetic order.\n",
        "fruits=['lemon','kiwi','watermelon','grape','apple']\n",
        "print(fruits)\n",
        "fruits.sort()\n",
        "print(fruits)"
      ],
      "metadata": {
        "colab": {
          "base_uri": "https://localhost:8080/"
        },
        "id": "9hdT8YbnVAlY",
        "outputId": "672fe05a-3db4-40bd-f4ea-c4bf6ec329a7"
      },
      "execution_count": null,
      "outputs": [
        {
          "output_type": "stream",
          "name": "stdout",
          "text": [
            "['lemon', 'kiwi', 'watermelon', 'grape', 'apple']\n",
            "['apple', 'grape', 'kiwi', 'lemon', 'watermelon']\n"
          ]
        }
      ]
    },
    {
      "cell_type": "code",
      "source": [
        "#6. Print out the first three elements of your list. (Slicing list) \n",
        "fruits=['lemon','kiwi','watermelon','grape','apple']\n",
        "print(fruits[0:3])"
      ],
      "metadata": {
        "colab": {
          "base_uri": "https://localhost:8080/"
        },
        "id": "a3wiKkvrVGz3",
        "outputId": "753d0347-08b9-4640-c38a-c14f9a2937ca"
      },
      "execution_count": null,
      "outputs": [
        {
          "output_type": "stream",
          "name": "stdout",
          "text": [
            "['lemon', 'kiwi', 'watermelon']\n"
          ]
        }
      ]
    },
    {
      "cell_type": "code",
      "source": [
        "#7. Create a loop to print the last 2 elements of your list.\n",
        "fruits=['lemon','kiwi','watermelon','grape','apple']\n",
        "print(fruits[-2:])"
      ],
      "metadata": {
        "colab": {
          "base_uri": "https://localhost:8080/"
        },
        "id": "971ssPbVVPHJ",
        "outputId": "0e3ac3fc-9225-45c1-8530-a0a32ddeccaa"
      },
      "execution_count": null,
      "outputs": [
        {
          "output_type": "stream",
          "name": "stdout",
          "text": [
            "['grape', 'apple']\n"
          ]
        }
      ]
    },
    {
      "cell_type": "code",
      "source": [
        "#lesson 5: if-elif-els statements \n",
        "#1 Make a list of 5 or more usernames, including an admin account.  Imagine you are writing code that will welcome people to your application on login. Loop through the list and print your greeting.\n",
        "#If the admin account logs in, give them a special greeting.  They’re the admin, after all!\n",
        "#other users can get the generic greeting\n",
        "people= [ 'abby','summer','emma','geoff','admin']\n",
        "for person in people:\n",
        " print(person.title() + \", welcome to my world! \")\n"
      ],
      "metadata": {
        "colab": {
          "base_uri": "https://localhost:8080/"
        },
        "id": "1IF49_AxVnDH",
        "outputId": "9846c279-85b8-42cc-acc0-50c4e343c16e"
      },
      "execution_count": null,
      "outputs": [
        {
          "output_type": "stream",
          "name": "stdout",
          "text": [
            "Abby, welcome to my world! \n",
            "Summer, welcome to my world! \n",
            "Emma, welcome to my world! \n",
            "Geoff, welcome to my world! \n",
            "Admin, welcome to my world! \n"
          ]
        }
      ]
    }
  ]
}